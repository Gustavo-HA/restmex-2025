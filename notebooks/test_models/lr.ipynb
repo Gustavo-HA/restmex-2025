{
 "cells": [
  {
   "cell_type": "code",
   "execution_count": 1,
   "id": "898b580e",
   "metadata": {},
   "outputs": [],
   "source": [
    "import pandas as pd\n",
    "from sklearn.metrics import classification_report, confusion_matrix\n",
    "import joblib"
   ]
  },
  {
   "cell_type": "code",
   "execution_count": 2,
   "id": "880bcc37",
   "metadata": {},
   "outputs": [],
   "source": [
    "test_tfidf_data_path = \"../../data/preprocessed/type/tfidf_test.csv\"\n",
    "test_w2v_data_path = \"../../data/preprocessed/type/w2v_test.csv\"\n",
    "model_tfidf_path = \"../../models/lr_type_model_tfidf.pkl\"\n",
    "model_w2v_path = \"../../models/lr_type_model_w2v.pkl\""
   ]
  },
  {
   "cell_type": "code",
   "execution_count": 5,
   "id": "c9d00a72",
   "metadata": {},
   "outputs": [],
   "source": [
    "model = joblib.load(model_tfidf_path)\n",
    "test_tfidf_data = pd.read_csv(test_tfidf_data_path)\n",
    "target_col = \"Type\"\n",
    "X_test = test_tfidf_data.drop(columns=[target_col])\n",
    "y_test = test_tfidf_data[target_col]"
   ]
  },
  {
   "cell_type": "code",
   "execution_count": 11,
   "id": "9cdfd741",
   "metadata": {},
   "outputs": [],
   "source": [
    "y_pred = model.predict(X_test)\n",
    "\n",
    "le = joblib.load(\"../../models/label_encoder_type.pkl\")\n",
    "y_test = le.transform(y_test.values)"
   ]
  },
  {
   "cell_type": "code",
   "execution_count": 15,
   "id": "dc80a1c8",
   "metadata": {},
   "outputs": [
    {
     "name": "stdout",
     "output_type": "stream",
     "text": [
      "Classification Report for TF-IDF Model:\n",
      "              precision    recall  f1-score   support\n",
      "\n",
      "  Attractive      0.957     0.959     0.958     13985\n",
      "       Hotel      0.953     0.916     0.934     10282\n",
      "  Restaurant      0.945     0.965     0.955     17344\n",
      "\n",
      "    accuracy                          0.951     41611\n",
      "   macro avg      0.952     0.947     0.949     41611\n",
      "weighted avg      0.951     0.951     0.951     41611\n",
      "\n",
      "Confusion Matrix for TF-IDF Model:\n",
      "[[13417   184   384]\n",
      " [  279  9414   589]\n",
      " [  329   282 16733]]\n"
     ]
    }
   ],
   "source": [
    "print(\"Classification Report for TF-IDF Model:\")\n",
    "class_report = classification_report(y_test, y_pred, digits=3, target_names=le.classes_)\n",
    "print(class_report)\n",
    "print(\"Confusion Matrix for TF-IDF Model:\")\n",
    "conf_matrix = confusion_matrix(y_test, y_pred)\n",
    "print(conf_matrix)\n",
    "with open(\"../../report/classification_report_lr_tfidf.txt\", \"w\") as f:\n",
    "    f.write(class_report)"
   ]
  },
  {
   "cell_type": "code",
   "execution_count": 16,
   "id": "9b4ddce1",
   "metadata": {},
   "outputs": [],
   "source": [
    "# ahora con w2v\n",
    "model = joblib.load(model_w2v_path)\n",
    "test_w2v_data = pd.read_csv(test_w2v_data_path)\n",
    "X_test_w2v = test_w2v_data.drop(columns=[target_col])\n",
    "y_test_w2v = test_w2v_data[target_col]\n"
   ]
  },
  {
   "cell_type": "code",
   "execution_count": null,
   "id": "d360486f",
   "metadata": {},
   "outputs": [],
   "source": [
    "y_pred = model.predict(X_test_w2v)"
   ]
  },
  {
   "cell_type": "code",
   "execution_count": 21,
   "id": "a52061c9",
   "metadata": {},
   "outputs": [],
   "source": [
    "y_test_w2v = le.transform(y_test_w2v.values)"
   ]
  },
  {
   "cell_type": "code",
   "execution_count": 22,
   "id": "3ece2bb1",
   "metadata": {},
   "outputs": [
    {
     "name": "stdout",
     "output_type": "stream",
     "text": [
      "Classification Report for W2V Model:\n",
      "              precision    recall  f1-score   support\n",
      "\n",
      "  Attractive      0.951     0.950     0.951     13985\n",
      "       Hotel      0.924     0.904     0.914     10282\n",
      "  Restaurant      0.941     0.953     0.947     17344\n",
      "\n",
      "    accuracy                          0.940     41611\n",
      "   macro avg      0.939     0.936     0.937     41611\n",
      "weighted avg      0.940     0.940     0.940     41611\n",
      "\n",
      "Confusion Matrix for TF-IDF Model:\n",
      "[[13292   311   382]\n",
      " [  323  9297   662]\n",
      " [  357   453 16534]]\n"
     ]
    }
   ],
   "source": [
    "print(\"Classification Report for W2V Model:\")\n",
    "class_report = classification_report(y_test_w2v, y_pred, digits=3, target_names=le.classes_)\n",
    "print(class_report)\n",
    "print(\"Confusion Matrix for TF-IDF Model:\")\n",
    "conf_matrix = confusion_matrix(y_test_w2v, y_pred)\n",
    "print(conf_matrix)\n",
    "with open(\"../../report/classification_report_lr_w2v.txt\", \"w\") as f:\n",
    "    f.write(class_report)"
   ]
  }
 ],
 "metadata": {
  "kernelspec": {
   "display_name": "restmex",
   "language": "python",
   "name": "python3"
  },
  "language_info": {
   "codemirror_mode": {
    "name": "ipython",
    "version": 3
   },
   "file_extension": ".py",
   "mimetype": "text/x-python",
   "name": "python",
   "nbconvert_exporter": "python",
   "pygments_lexer": "ipython3",
   "version": "3.12.9"
  }
 },
 "nbformat": 4,
 "nbformat_minor": 5
}
