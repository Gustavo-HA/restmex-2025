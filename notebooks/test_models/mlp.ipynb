{
 "cells": [
  {
   "cell_type": "code",
   "execution_count": 6,
   "id": "02eefcc7",
   "metadata": {},
   "outputs": [],
   "source": [
    "import pandas as pd\n",
    "from sklearn.metrics import classification_report, confusion_matrix\n",
    "import joblib\n",
    "# packages to import tensorflow models\n",
    "import tensorflow as tf\n",
    "from tensorflow.keras.models import load_model\n",
    "import mlflow\n"
   ]
  },
  {
   "cell_type": "code",
   "execution_count": 2,
   "id": "8a533125",
   "metadata": {},
   "outputs": [
    {
     "name": "stderr",
     "output_type": "stream",
     "text": [
      "I0000 00:00:1749096786.258744  325506 gpu_device.cc:2019] Created device /job:localhost/replica:0/task:0/device:GPU:0 with 5215 MB memory:  -> device: 0, name: NVIDIA GeForce RTX 4060, pci bus id: 0000:01:00.0, compute capability: 8.9\n",
      "WARNING:absl:Compiled the loaded model, but the compiled metrics have yet to be built. `model.compile_metrics` will be empty until you train or evaluate the model.\n"
     ]
    }
   ],
   "source": [
    "model = load_model(\"../../models/mlp_type_model_tfidf.h5\")"
   ]
  },
  {
   "cell_type": "code",
   "execution_count": 3,
   "id": "c35a2f33",
   "metadata": {},
   "outputs": [],
   "source": [
    "test_df = pd.read_csv(\"../../data/preprocessed/type/tfidf_test.csv\")\n",
    "target_col = \"Type\"\n",
    "X_test = test_df.drop(columns=[target_col])\n",
    "y_test = test_df[target_col]"
   ]
  },
  {
   "cell_type": "code",
   "execution_count": 5,
   "id": "59dbc793",
   "metadata": {},
   "outputs": [
    {
     "name": "stdout",
     "output_type": "stream",
     "text": [
      "\u001b[1m1301/1301\u001b[0m \u001b[32m━━━━━━━━━━━━━━━━━━━━\u001b[0m\u001b[37m\u001b[0m \u001b[1m1s\u001b[0m 622us/step\n",
      "              precision    recall  f1-score   support\n",
      "\n",
      "  Attractive      0.964     0.952     0.958     13985\n",
      "       Hotel      0.943     0.923     0.933     10282\n",
      "  Restaurant      0.944     0.965     0.954     17344\n",
      "\n",
      "    accuracy                          0.950     41611\n",
      "   macro avg      0.950     0.947     0.949     41611\n",
      "weighted avg      0.951     0.950     0.950     41611\n",
      "\n",
      "[[13312   236   437]\n",
      " [  225  9495   562]\n",
      " [  266   334 16744]]\n"
     ]
    }
   ],
   "source": [
    "# Make predictions\n",
    "y_pred = model.predict(X_test)\n",
    "# Convert predictions to class labels\n",
    "y_pred_classes = y_pred.argmax(axis=1)\n",
    "\n",
    "# Convert y_test to categorical dtype first\n",
    "y_test_categorical = y_test.astype('category')\n",
    "\n",
    "# Convert true labels to class labels (codes) from the categorical version\n",
    "y_true_classes = y_test_categorical.cat.codes\n",
    "\n",
    "# Get target names from the categorical version of y_test\n",
    "target_names_for_report = y_test_categorical.cat.categories\n",
    "\n",
    "# Print classification report using the extracted target names\n",
    "classification_report_output = classification_report(y_true_classes, y_pred_classes, target_names=target_names_for_report, digits=3)\n",
    "print(classification_report(y_true_classes, y_pred_classes, target_names=target_names_for_report, digits=3))\n",
    "\n",
    "# save the classification report to a text file\n",
    "with open(\"../../report/classification_report_tfidf.txt\", \"w\") as f:\n",
    "    f.write(classification_report_output)\n",
    "\n",
    "# Print confusion matrix\n",
    "print(confusion_matrix(y_true_classes, y_pred_classes))\n"
   ]
  },
  {
   "cell_type": "code",
   "execution_count": 7,
   "id": "3d1aa081",
   "metadata": {},
   "outputs": [],
   "source": [
    "\n",
    "model = load_model(\"../../models/mlp_type_model_w2v.keras\")\n",
    "test_df = pd.read_csv(\"../../data/preprocessed/type/w2v_test.csv\")\n",
    "target_col = \"Type\"\n",
    "X_test = test_df.drop(columns=[target_col])\n",
    "y_test = test_df[target_col]"
   ]
  },
  {
   "cell_type": "code",
   "execution_count": 8,
   "id": "4056e61b",
   "metadata": {},
   "outputs": [
    {
     "name": "stdout",
     "output_type": "stream",
     "text": [
      "\u001b[1m1301/1301\u001b[0m \u001b[32m━━━━━━━━━━━━━━━━━━━━\u001b[0m\u001b[37m\u001b[0m \u001b[1m3s\u001b[0m 1ms/step\n",
      "              precision    recall  f1-score   support\n",
      "\n",
      "  Attractive      0.963     0.958     0.960     13985\n",
      "       Hotel      0.950     0.905     0.927     10282\n",
      "  Restaurant      0.937     0.967     0.951     17344\n",
      "\n",
      "    accuracy                          0.948     41611\n",
      "   macro avg      0.950     0.943     0.946     41611\n",
      "weighted avg      0.949     0.948     0.948     41611\n",
      "\n",
      "[[13397   200   388]\n",
      " [  234  9302   746]\n",
      " [  285   293 16766]]\n"
     ]
    }
   ],
   "source": [
    "# Make predictions\n",
    "y_pred = model.predict(X_test)\n",
    "# Convert predictions to class labels\n",
    "y_pred_classes = y_pred.argmax(axis=1)\n",
    "\n",
    "# Convert y_test to categorical dtype first\n",
    "y_test_categorical = y_test.astype('category')\n",
    "\n",
    "# Convert true labels to class labels (codes) from the categorical version\n",
    "y_true_classes = y_test_categorical.cat.codes\n",
    "\n",
    "# Get target names from the categorical version of y_test\n",
    "target_names_for_report = y_test_categorical.cat.categories\n",
    "\n",
    "# Print classification report using the extracted target names\n",
    "classification_report_output = classification_report(y_true_classes, y_pred_classes, target_names=target_names_for_report, digits=3)\n",
    "print(classification_report(y_true_classes, y_pred_classes, target_names=target_names_for_report, digits=3))\n",
    "\n",
    "# save the classification report to a text file\n",
    "with open(\"../../report/classification_report_w2v.txt\", \"w\") as f:\n",
    "    f.write(classification_report_output)\n",
    "\n",
    "# Print confusion matrix\n",
    "print(confusion_matrix(y_true_classes, y_pred_classes))"
   ]
  },
  {
   "cell_type": "code",
   "execution_count": 4,
   "id": "c3b8855d",
   "metadata": {},
   "outputs": [
    {
     "name": "stderr",
     "output_type": "stream",
     "text": [
      "I0000 00:00:1749107973.049012   56146 gpu_device.cc:2019] Created device /job:localhost/replica:0/task:0/device:GPU:0 with 5751 MB memory:  -> device: 0, name: NVIDIA GeForce RTX 4060, pci bus id: 0000:01:00.0, compute capability: 8.9\n"
     ]
    }
   ],
   "source": [
    "model = load_model(\"../../models/model.keras\")\n",
    "test_df = pd.read_csv(\"../../data/preprocessed/type/w2v_test.csv\")\n",
    "target_col = \"Type\"\n",
    "X_test = test_df.drop(columns=[target_col])\n",
    "y_test = test_df[target_col]\n"
   ]
  },
  {
   "cell_type": "code",
   "execution_count": 5,
   "id": "c48e235a",
   "metadata": {},
   "outputs": [
    {
     "name": "stderr",
     "output_type": "stream",
     "text": [
      "WARNING: All log messages before absl::InitializeLog() is called are written to STDERR\n",
      "I0000 00:00:1749107986.315750   57308 service.cc:152] XLA service 0x7746ec004750 initialized for platform CUDA (this does not guarantee that XLA will be used). Devices:\n",
      "I0000 00:00:1749107986.315770   57308 service.cc:160]   StreamExecutor device (0): NVIDIA GeForce RTX 4060, Compute Capability 8.9\n",
      "2025-06-05 01:19:46.319902: I tensorflow/compiler/mlir/tensorflow/utils/dump_mlir_util.cc:269] disabling MLIR crash reproducer, set env var `MLIR_CRASH_REPRODUCER_DIRECTORY` to enable.\n",
      "I0000 00:00:1749107986.338177   57308 cuda_dnn.cc:529] Loaded cuDNN version 90501\n",
      "2025-06-05 01:19:46.795030: I external/local_xla/xla/stream_executor/cuda/subprocess_compilation.cc:346] ptxas warning : Registers are spilled to local memory in function 'gemm_fusion_dot_16', 12 bytes spill stores, 12 bytes spill loads\n",
      "\n",
      "2025-06-05 01:19:46.920046: I external/local_xla/xla/stream_executor/cuda/subprocess_compilation.cc:346] ptxas warning : Registers are spilled to local memory in function 'gemm_fusion_dot_16', 4 bytes spill stores, 4 bytes spill loads\n",
      "\n"
     ]
    },
    {
     "name": "stdout",
     "output_type": "stream",
     "text": [
      "\u001b[1m 280/1301\u001b[0m \u001b[32m━━━━\u001b[0m\u001b[37m━━━━━━━━━━━━━━━━\u001b[0m \u001b[1m0s\u001b[0m 541us/step"
     ]
    },
    {
     "name": "stderr",
     "output_type": "stream",
     "text": [
      "I0000 00:00:1749107987.234260   57308 device_compiler.h:188] Compiled cluster using XLA!  This line is logged at most once for the lifetime of the process.\n"
     ]
    },
    {
     "name": "stdout",
     "output_type": "stream",
     "text": [
      "\u001b[1m1301/1301\u001b[0m \u001b[32m━━━━━━━━━━━━━━━━━━━━\u001b[0m\u001b[37m\u001b[0m \u001b[1m2s\u001b[0m 1ms/step\n",
      "              precision    recall  f1-score   support\n",
      "\n",
      "  Attractive      0.941     0.956     0.948     13985\n",
      "       Hotel      0.921     0.898     0.909     10282\n",
      "  Restaurant      0.938     0.939     0.939     17344\n",
      "\n",
      "    accuracy                          0.935     41611\n",
      "   macro avg      0.933     0.931     0.932     41611\n",
      "weighted avg      0.935     0.935     0.935     41611\n",
      "\n",
      "[[13363   207   415]\n",
      " [  382  9236   664]\n",
      " [  461   589 16294]]\n"
     ]
    }
   ],
   "source": [
    "# Make predictions\n",
    "y_pred = model.predict(X_test)\n",
    "# Convert predictions to class labels\n",
    "y_pred_classes = y_pred.argmax(axis=1)\n",
    "\n",
    "# Convert y_test to categorical dtype first\n",
    "y_test_categorical = y_test.astype('category')\n",
    "\n",
    "# Convert true labels to class labels (codes) from the categorical version\n",
    "y_true_classes = y_test_categorical.cat.codes\n",
    "\n",
    "# Get target names from the categorical version of y_test\n",
    "target_names_for_report = y_test_categorical.cat.categories\n",
    "\n",
    "# Print classification report using the extracted target names\n",
    "classification_report_output = classification_report(y_true_classes, y_pred_classes, target_names=target_names_for_report, digits=3)\n",
    "print(classification_report(y_true_classes, y_pred_classes, target_names=target_names_for_report, digits=3))\n",
    "\n",
    "# save the classification report to a text file\n",
    "with open(\"../../report/classification_report_w2v.txt\", \"w\") as f:\n",
    "    f.write(classification_report_output)\n",
    "\n",
    "# Print confusion matrix\n",
    "print(confusion_matrix(y_true_classes, y_pred_classes))"
   ]
  }
 ],
 "metadata": {
  "kernelspec": {
   "display_name": "restmex",
   "language": "python",
   "name": "python3"
  },
  "language_info": {
   "codemirror_mode": {
    "name": "ipython",
    "version": 3
   },
   "file_extension": ".py",
   "mimetype": "text/x-python",
   "name": "python",
   "nbconvert_exporter": "python",
   "pygments_lexer": "ipython3",
   "version": "3.12.9"
  }
 },
 "nbformat": 4,
 "nbformat_minor": 5
}
