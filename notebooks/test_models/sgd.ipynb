{
 "cells": [
  {
   "cell_type": "code",
   "execution_count": 1,
   "id": "898b580e",
   "metadata": {},
   "outputs": [],
   "source": [
    "import pandas as pd\n",
    "from sklearn.metrics import classification_report, confusion_matrix\n",
    "import joblib"
   ]
  },
  {
   "cell_type": "code",
   "execution_count": 2,
   "id": "880bcc37",
   "metadata": {},
   "outputs": [],
   "source": [
    "test_tfidf_data_path = \"../../data/preprocessed/type/tfidf_test.csv\"\n",
    "test_w2v_data_path = \"../../data/preprocessed/type/w2v_test.csv\"\n",
    "model_tfidf_path = \"../../models/sgd_type_model_tfidf.pkl\"\n",
    "model_w2v_path = \"../../models/sgd_type_model_w2v.pkl\""
   ]
  },
  {
   "cell_type": "code",
   "execution_count": 3,
   "id": "c9d00a72",
   "metadata": {},
   "outputs": [],
   "source": [
    "model = joblib.load(model_tfidf_path)\n",
    "test_tfidf_data = pd.read_csv(test_tfidf_data_path)\n",
    "target_col = \"Type\"\n",
    "X_test = test_tfidf_data.drop(columns=[target_col])\n",
    "y_test = test_tfidf_data[target_col]"
   ]
  },
  {
   "cell_type": "code",
   "execution_count": 4,
   "id": "9cdfd741",
   "metadata": {},
   "outputs": [],
   "source": [
    "y_pred = model.predict(X_test)\n",
    "\n",
    "le = joblib.load(\"../../models/label_encoder_type.pkl\")\n",
    "y_test = le.transform(y_test.values)"
   ]
  },
  {
   "cell_type": "code",
   "execution_count": 5,
   "id": "dc80a1c8",
   "metadata": {},
   "outputs": [
    {
     "name": "stdout",
     "output_type": "stream",
     "text": [
      "Classification Report for TF-IDF Model:\n",
      "              precision    recall  f1-score   support\n",
      "\n",
      "  Attractive      0.954     0.958     0.956     13985\n",
      "       Hotel      0.962     0.891     0.925     10282\n",
      "  Restaurant      0.931     0.969     0.949     17344\n",
      "\n",
      "    accuracy                          0.946     41611\n",
      "   macro avg      0.949     0.939     0.943     41611\n",
      "weighted avg      0.946     0.946     0.945     41611\n",
      "\n",
      "Confusion Matrix for TF-IDF Model:\n",
      "[[13394   149   442]\n",
      " [  315  9160   807]\n",
      " [  338   208 16798]]\n"
     ]
    }
   ],
   "source": [
    "print(\"Classification Report for TF-IDF Model:\")\n",
    "class_report = classification_report(y_test, y_pred, digits=3, target_names=le.classes_)\n",
    "print(class_report)\n",
    "print(\"Confusion Matrix for TF-IDF Model:\")\n",
    "conf_matrix = confusion_matrix(y_test, y_pred)\n",
    "print(conf_matrix)\n",
    "with open(\"../../report/classification_report_sgd_tfidf.txt\", \"w\") as f:\n",
    "    f.write(class_report)"
   ]
  },
  {
   "cell_type": "code",
   "execution_count": 6,
   "id": "9b4ddce1",
   "metadata": {},
   "outputs": [],
   "source": [
    "# ahora con w2v\n",
    "model = joblib.load(model_w2v_path)\n",
    "test_w2v_data = pd.read_csv(test_w2v_data_path)\n",
    "X_test_w2v = test_w2v_data.drop(columns=[target_col])\n",
    "y_test_w2v = test_w2v_data[target_col]\n"
   ]
  },
  {
   "cell_type": "code",
   "execution_count": 7,
   "id": "d360486f",
   "metadata": {},
   "outputs": [],
   "source": [
    "y_pred = model.predict(X_test_w2v)"
   ]
  },
  {
   "cell_type": "code",
   "execution_count": 8,
   "id": "a52061c9",
   "metadata": {},
   "outputs": [],
   "source": [
    "y_test_w2v = le.transform(y_test_w2v.values)"
   ]
  },
  {
   "cell_type": "code",
   "execution_count": 9,
   "id": "3ece2bb1",
   "metadata": {},
   "outputs": [
    {
     "name": "stdout",
     "output_type": "stream",
     "text": [
      "Classification Report for W2V Model:\n",
      "              precision    recall  f1-score   support\n",
      "\n",
      "  Attractive      0.953     0.947     0.950     13985\n",
      "       Hotel      0.931     0.895     0.913     10282\n",
      "  Restaurant      0.934     0.960     0.947     17344\n",
      "\n",
      "    accuracy                          0.940     41611\n",
      "   macro avg      0.939     0.934     0.937     41611\n",
      "weighted avg      0.940     0.940     0.940     41611\n",
      "\n",
      "Confusion Matrix for TF-IDF Model:\n",
      "[[13247   324   414]\n",
      " [  317  9200   765]\n",
      " [  336   353 16655]]\n"
     ]
    }
   ],
   "source": [
    "print(\"Classification Report for W2V Model:\")\n",
    "class_report = classification_report(y_test_w2v, y_pred, digits=3, target_names=le.classes_)\n",
    "print(class_report)\n",
    "print(\"Confusion Matrix for TF-IDF Model:\")\n",
    "conf_matrix = confusion_matrix(y_test_w2v, y_pred)\n",
    "print(conf_matrix)\n",
    "with open(\"../../report/classification_report_sgd_w2v.txt\", \"w\") as f:\n",
    "    f.write(class_report)"
   ]
  }
 ],
 "metadata": {
  "kernelspec": {
   "display_name": "restmex",
   "language": "python",
   "name": "python3"
  },
  "language_info": {
   "codemirror_mode": {
    "name": "ipython",
    "version": 3
   },
   "file_extension": ".py",
   "mimetype": "text/x-python",
   "name": "python",
   "nbconvert_exporter": "python",
   "pygments_lexer": "ipython3",
   "version": "3.12.9"
  }
 },
 "nbformat": 4,
 "nbformat_minor": 5
}
